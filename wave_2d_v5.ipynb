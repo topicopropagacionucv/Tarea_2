{
 "cells": [
  {
   "cell_type": "code",
   "execution_count": null,
   "metadata": {
    "code_folding": [
     0
    ],
    "scrolled": false
   },
   "outputs": [],
   "source": [
    "# Import Libraries \n",
    "# ----------------------------------------------\n",
    "%matplotlib notebook \n",
    "import numpy as np\n",
    "import matplotlib.pyplot as plt\n",
    "from matplotlib.gridspec import GridSpec"
   ]
  },
  {
   "cell_type": "code",
   "execution_count": null,
   "metadata": {
    "code_folding": [
     0
    ],
    "scrolled": false
   },
   "outputs": [],
   "source": [
    "# Parameter Configuration \n",
    "# -----------------------\n",
    "nx   = 201          # number of grid points in x-direction\n",
    "nz   = nx           # number of grid points in z-direction\n",
    "# Note: regular 2D grid, dz = dx\n",
    "dx   = 1.           # grid point distance in x-direction\n",
    "dz   = dx           # grid point distance in z-direction\n",
    "c0   = 500.         # wave velocity in medium (m/s)\n",
    "isx  = 100          # source location in grid in x-direction\n",
    "isz  = isx          # source location in grid in z-direction\n",
    "nt   = 402          # maximum number of time steps\n",
    "dt   = 0.0010       # time step\n",
    "f0   = 100. # dominant frequency of the source (Hz)\n",
    "t0   = 4. / f0 # source time shift\n",
    "nop   = 5            # length of finite-difference operator (3 or 5)\n",
    "idisp = 5 # display frequency\n",
    "\n",
    "# Receiver locations\n",
    "irx = np.array([ 80, 90, 100, 110, 120])\n",
    "irz = np.array([25, 25, 25, 25, 25])\n",
    "seis = np.zeros((len(irx), nt))\n",
    "\n",
    "print('Source frequency =', f0, 'Hz')\n",
    "\n",
    "# CFL Stability Criterion\n",
    "# -----------------------\n",
    "eps  = c0 * dt / dx # epsilon value\n",
    "print('Stability criterion =', eps)\n",
    "\n",
    "# Initialize pressure at different time steps and the second\n",
    "# derivatives in each direction\n",
    "## -------------------------\n",
    "p    = np.zeros((nz, nx, nt)) # p at time n (now)\n",
    "d2px = np.zeros((nz, nx, nt)) # 2nd space derivative of p in x-direction\n",
    "d2pz = np.zeros((nz, nx, nt)) # 2nd space derivative of p in z-direction\n"
   ]
  },
  {
   "cell_type": "code",
   "execution_count": null,
   "metadata": {
    "code_folding": [
     0
    ]
   },
   "outputs": [],
   "source": [
    "# Initialize Velocity Model (assume homogeneous model)\n",
    "# ----------------------------------------------------\n",
    "c    = np.zeros((nz, nx))\n",
    "c    = c + c0             # initialize wave velocity in model\n",
    "\n",
    "# Initialize Grid\n",
    "x    = np.arange(nx)\n",
    "x    = x * dx             # coordinate in x-direction\n",
    "z    = np.arange(nz)\n",
    "z    = z * dz             # coordinate in z-direction\n",
    "\n",
    "# Initialize Source Time Function \n",
    "# -------------------------\n",
    "# Source time function (Gaussian)\n",
    "# -------------------------------\n",
    "src  = np.zeros(nt)\n",
    "time = np.linspace(0 * dt, nt * dt, nt)\n",
    "# 1st derivative of a Gaussian\n",
    "src  = -2. * (time - t0) * (f0 ** 2) * (np.exp(-1.0 * (f0 ** 2) * (time - t0) ** 2))"
   ]
  },
  {
   "cell_type": "code",
   "execution_count": null,
   "metadata": {
    "code_folding": [
     0
    ]
   },
   "outputs": [],
   "source": [
    "# Plot preparation\n",
    "\n",
    "v = max([np.abs(src.min()), np.abs(src.max())])\n",
    "# Initialize animated plot\n",
    "pnew=p[:,:,0]\n",
    "image = plt.imshow(pnew, interpolation='nearest', animated=True,\n",
    "                   vmin=-0.00003, vmax=0.00003, cmap=plt.cm.RdBu)\n",
    "\n",
    "# Plot the receivers\n",
    "for x, z in zip(irx, irz):\n",
    "    plt.text(x, z, '+')\n",
    "\n",
    "plt.plot(isx, isz, 'r*', markersize=11)\n",
    "plt.colorbar()\n",
    "plt.xlabel('ix')\n",
    "plt.ylabel('iz')\n",
    "\n",
    "\n",
    "plt.ion()\n",
    "#plt.show(block=False)\n",
    "\n",
    "# required for seismograms\n",
    "ir = np.arange(len(irx))"
   ]
  },
  {
   "cell_type": "code",
   "execution_count": null,
   "metadata": {
    "code_folding": [
     0
    ]
   },
   "outputs": [],
   "source": [
    "# Time extrapolation\n",
    "for it in range(nt-1):\n",
    "    if nop==3:\n",
    "        # calculate partial derivatives, be careful around the boundaries\n",
    "        for i in range(1, nx - 1):\n",
    "            d2pz[i, :,it] = (p[i - 1, :,it] - 2 * p[i, :,it] + p[i + 1, :,it]) / dz ** 2 \n",
    "        for j in range(1, nz - 1):\n",
    "            d2px[:, j,it] = (p[:, j - 1,it] - 2 * p[:, j,it] + p[:, j + 1,it]) / dx ** 2\n",
    "\n",
    "    if nop==5:\n",
    "        # calculate partial derivatives, be careful around the boundaries\n",
    "        for i in range(2, nx - 2):\n",
    "            d2px[:, i,it]=(-1./12*p[:,i+2,it]+4./3*p[:,i+1,it]-5./2*p[:,i,it]+4./3*p[:,i-1,it]-1./12*p[:,i-2,it])/ dx ** 2\n",
    "        for j in range(2, nz - 2):\n",
    "            d2pz[j, :,it]=(-1./12*p[j+2,:,it]+4./3*p[j+1,:,it]-5./2*p[j,:,it]+4./3*p[j-1,:,it]-1./12*p[j-2,:,it])/ dz ** 2\n",
    "\n",
    "    # Time Extrapolation\n",
    "    # ------------------\n",
    "    p[:,:,it+1] = 2 * p[:,:,it] - p[:,:,it-1] + (c ** 2) * (dt ** 2) * (d2pz[:,:,it] + d2px[:,:,it])\n",
    "    \n",
    "    # Add Source Term at isz and isx\n",
    "    # ------------------------------\n",
    "    # Absolute pressure w.r.t analytical solution\n",
    "    p[isz, isx,it+1] = p[isz, isx,it+1] + src[it] / (dx * dz) * (dt ** 2)\n",
    "    pnew=p[:,:,it]\n",
    "    \n",
    "    # Set Boundary Conditions comment / uncomment\n",
    "    p[0,:,it+1] = 0                       # Fixed end\n",
    "    p[nx-1,:,it+1] = 0                    # Fixed end\n",
    "    p[:,0,it+1] = 0                       # Fixed end\n",
    "    p[:,nz-1,it+1] = 0                    # Fixed end    \n",
    "#    p[nx-1,:, it+1] = p[nx-2,:, it+1]       # Free end\n",
    "#    p[0,:, it + 1] = p[1,:, it + 1]         # Free end\n",
    "#    p[:,nz-1, it+1] = p[:,nz-2, it+1]       # Free end\n",
    "#    p[:,0, it + 1] = p[:,1, it + 1]         # Free end    \n",
    "#    p[nx-1,:, it + 1] = p[nx - 2,:, it]      # ABC\n",
    "#    p[0,:, it + 1] = p[1,:, it]              # ABC\n",
    "#    p[:,nz-1, it + 1] = p[:,nz - 2, it]      # ABC\n",
    "#    p[:,0, it + 1] = p[:,1, it]              # ABC \n",
    "    \n",
    "    # Plot every time step (nt)\n",
    "    if (it % idisp) == 0:\n",
    "        plt.title('Time Step (nt) = %d' % it)    \n",
    "        image.set_data(pnew)\n",
    "        plt.gcf().canvas.draw()\n",
    "\n",
    "    # Save seismograms\n",
    "    seis[ir, it] = p[irz[ir], irx[ir],it]"
   ]
  },
  {
   "cell_type": "code",
   "execution_count": null,
   "metadata": {},
   "outputs": [],
   "source": [
    "# Plot the source time function and the seismograms \n",
    "\n",
    "plt.ion()\n",
    "fig = plt.figure(figsize=(8, 8))\n",
    "\n",
    "gs = GridSpec(2, 2, figure=fig)\n",
    "ax1 = fig.add_subplot(gs[0, :])\n",
    "plt.title('Seismograms')\n",
    "ymax = seis.ravel().max()\n",
    "for ir in range(len(seis)):\n",
    "    plt.plot(time, seis[ir, :] + ymax * ir)\n",
    "    plt.xlabel('Time (s)')\n",
    "    plt.ylabel('Amplitude')\n",
    "\n",
    "ax2 = fig.add_subplot(gs[-1, 0])\n",
    "plt.plot(time, src)\n",
    "plt.title('Source time function')\n",
    "plt.xlabel('Time (s) ')\n",
    "plt.ylabel('Source amplitude ')\n",
    "#plt.xlim(time.min(),time.max())\n",
    "#plt.ylim(src.min(),src.max())\n",
    "\n",
    "ax3 = fig.add_subplot(gs[-1, -1])\n",
    "plt.title('Velocity Model')\n",
    "plt.imshow(c)\n",
    "plt.xlabel('ix')\n",
    "plt.ylabel('iz')\n",
    "plt.colorbar()\n",
    "\n",
    "plt.show()"
   ]
  }
 ],
 "metadata": {
  "anaconda-cloud": {},
  "kernelspec": {
   "display_name": "Python 3",
   "language": "python",
   "name": "python3"
  },
  "language_info": {
   "codemirror_mode": {
    "name": "ipython",
    "version": 3
   },
   "file_extension": ".py",
   "mimetype": "text/x-python",
   "name": "python",
   "nbconvert_exporter": "python",
   "pygments_lexer": "ipython3",
   "version": "3.7.4"
  }
 },
 "nbformat": 4,
 "nbformat_minor": 1
}
